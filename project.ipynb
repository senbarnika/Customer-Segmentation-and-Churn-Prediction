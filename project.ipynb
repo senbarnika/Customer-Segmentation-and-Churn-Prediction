{
 "cells": [
  {
   "cell_type": "markdown",
   "metadata": {},
   "source": [
    "importing essential libraries"
   ]
  },
  {
   "cell_type": "code",
   "execution_count": 1,
   "metadata": {},
   "outputs": [],
   "source": [
    "import numpy as np\n",
    "import pandas as pd\n",
    "import matplotlib.pyplot as plt\n",
    "import seaborn as sb\n",
    "from sklearn.preprocessing import StandardScaler, LabelEncoder\n",
    "from sklearn.cluster import KMeans\n",
    "\n",
    "import warnings\n",
    "warnings.filterwarnings('ignore')"
   ]
  },
  {
   "cell_type": "markdown",
   "metadata": {},
   "source": [
    "data preprocessing"
   ]
  },
  {
   "cell_type": "code",
   "execution_count": 2,
   "metadata": {},
   "outputs": [
    {
     "name": "stdout",
     "output_type": "stream",
     "text": [
      "     ID  Year_Birth   Education Marital_Status   Income  Kidhome  Teenhome  \\\n",
      "0  5524        1957  Graduation         Single  58138.0        0         0   \n",
      "1  2174        1954  Graduation         Single  46344.0        1         1   \n",
      "2  4141        1965  Graduation       Together  71613.0        0         0   \n",
      "3  6182        1984  Graduation       Together  26646.0        1         0   \n",
      "4  5324        1981         PhD        Married  58293.0        1         0   \n",
      "\n",
      "  Dt_Customer  Recency  MntWines  ...  NumWebVisitsMonth  AcceptedCmp3  \\\n",
      "0  04-09-2012       58       635  ...                  7             0   \n",
      "1  08-03-2014       38        11  ...                  5             0   \n",
      "2  21-08-2013       26       426  ...                  4             0   \n",
      "3  10-02-2014       26        11  ...                  6             0   \n",
      "4  19-01-2014       94       173  ...                  5             0   \n",
      "\n",
      "   AcceptedCmp4  AcceptedCmp5  AcceptedCmp1  AcceptedCmp2  Complain  \\\n",
      "0             0             0             0             0         0   \n",
      "1             0             0             0             0         0   \n",
      "2             0             0             0             0         0   \n",
      "3             0             0             0             0         0   \n",
      "4             0             0             0             0         0   \n",
      "\n",
      "   Z_CostContact  Z_Revenue  Response  \n",
      "0              3         11         1  \n",
      "1              3         11         0  \n",
      "2              3         11         0  \n",
      "3              3         11         0  \n",
      "4              3         11         0  \n",
      "\n",
      "[5 rows x 29 columns]\n"
     ]
    },
    {
     "data": {
      "text/plain": [
       "(2240, 29)"
      ]
     },
     "execution_count": 2,
     "metadata": {},
     "output_type": "execute_result"
    }
   ],
   "source": [
    "df = pd.read_csv('new.csv')\n",
    "print(df.head())\n",
    "df.shape"
   ]
  }
 ],
 "metadata": {
  "kernelspec": {
   "display_name": "Python 3",
   "language": "python",
   "name": "python3"
  },
  "language_info": {
   "codemirror_mode": {
    "name": "ipython",
    "version": 3
   },
   "file_extension": ".py",
   "mimetype": "text/x-python",
   "name": "python",
   "nbconvert_exporter": "python",
   "pygments_lexer": "ipython3",
   "version": "3.13.2"
  }
 },
 "nbformat": 4,
 "nbformat_minor": 2
}
